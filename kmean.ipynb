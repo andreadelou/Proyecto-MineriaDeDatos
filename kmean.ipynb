{
 "cells": [
  {
   "cell_type": "code",
   "execution_count": 2,
   "metadata": {},
   "outputs": [],
   "source": [
    "import pandas as pd\n",
    "from sklearn.cluster import KMeans\n",
    "from sklearn.preprocessing import StandardScaler"
   ]
  },
  {
   "cell_type": "code",
   "execution_count": 3,
   "metadata": {},
   "outputs": [],
   "source": [
    "# Cargar los datos\n",
    "data = pd.read_csv('archivo_limpio.csv')\n",
    "\n",
    "# Seleccionar las columnas relevantes para el clustering\n",
    "columns = ['EDADHOM', 'EDADMUJ', 'GETHOM', 'GETMUJ', 'OCUHOM', 'OCUMUJ']\n",
    "\n",
    "# Filtrar los datos y eliminar las filas con valores faltantes\n",
    "filtered_data = data[columns].dropna()\n",
    "\n"
   ]
  },
  {
   "cell_type": "code",
   "execution_count": 4,
   "metadata": {},
   "outputs": [
    {
     "name": "stderr",
     "output_type": "stream",
     "text": [
      "C:\\Users\\andre\\AppData\\Local\\Packages\\PythonSoftwareFoundation.Python.3.9_qbz5n2kfra8p0\\LocalCache\\local-packages\\Python39\\site-packages\\sklearn\\cluster\\_kmeans.py:870: FutureWarning: The default value of `n_init` will change from 10 to 'auto' in 1.4. Set the value of `n_init` explicitly to suppress the warning\n",
      "  warnings.warn(\n"
     ]
    },
    {
     "name": "stdout",
     "output_type": "stream",
     "text": [
      "   EDADHOM  EDADMUJ  GETHOM  GETMUJ  OCUHOM  OCUMUJ  Cluster\n",
      "0       16       14       9       9    6111    9711        2\n",
      "1       16       14       1       1    6111    9711        0\n",
      "2       16       14       1       1    6111    9711        0\n",
      "3       16       14       2       2    6111    9711        0\n",
      "4       16       14       9       9    6111    9711        2\n"
     ]
    }
   ],
   "source": [
    "# Escalar los datos para que todas las características tengan la misma escala\n",
    "scaler = StandardScaler()\n",
    "scaled_data = scaler.fit_transform(filtered_data)\n",
    "\n",
    "# Aplicar el algoritmo k-means\n",
    "k = 5  # Número de clusters deseado\n",
    "kmeans = KMeans(n_clusters=k, random_state=42)\n",
    "kmeans.fit(scaled_data)\n",
    "\n",
    "# Obtener las etiquetas de los clusters y asignarlas a los datos filtrados\n",
    "cluster_labels = kmeans.labels_\n",
    "filtered_data['Cluster'] = cluster_labels\n",
    "\n",
    "# Visualizar los resultados\n",
    "print(filtered_data.head())\n"
   ]
  }
 ],
 "metadata": {
  "kernelspec": {
   "display_name": "Python 3",
   "language": "python",
   "name": "python3"
  },
  "language_info": {
   "codemirror_mode": {
    "name": "ipython",
    "version": 3
   },
   "file_extension": ".py",
   "mimetype": "text/x-python",
   "name": "python",
   "nbconvert_exporter": "python",
   "pygments_lexer": "ipython3",
   "version": "3.9.13"
  },
  "orig_nbformat": 4
 },
 "nbformat": 4,
 "nbformat_minor": 2
}

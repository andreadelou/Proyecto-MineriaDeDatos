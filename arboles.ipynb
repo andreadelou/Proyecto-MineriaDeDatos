{
 "cells": [
  {
   "cell_type": "code",
   "execution_count": 1,
   "metadata": {},
   "outputs": [],
   "source": [
    "import pandas as pd\n",
    "from sklearn.tree import DecisionTreeClassifier\n",
    "from sklearn.model_selection import train_test_split\n",
    "from sklearn.metrics import accuracy_score\n",
    "from sklearn.tree import plot_tree\n",
    "import matplotlib.pyplot as plt\n"
   ]
  },
  {
   "cell_type": "code",
   "execution_count": 2,
   "metadata": {},
   "outputs": [
    {
     "name": "stdout",
     "output_type": "stream",
     "text": [
      "Precisión del modelo: 0.77\n"
     ]
    }
   ],
   "source": [
    "# Cargar los datos\n",
    "data = pd.read_csv('archivo_limpio.csv')\n",
    "\n",
    "# Seleccionar las columnas relevantes y la variable objetivo\n",
    "columns = ['EDADHOM', 'EDADMUJ', 'GETHOM', 'GETMUJ', 'OCUHOM', 'OCUMUJ']\n",
    "target = 'CLAUNI'\n",
    "\n",
    "# Filtrar los datos y eliminar las filas con valores faltantes\n",
    "filtered_data = data[columns + [target]].dropna()\n",
    "\n",
    "# Filtrar los datos y eliminar las filas con valores que se deben ignorar en 'CLAUNI', 'GETHOM', 'GETMUJ', 'EDADHOM' y 'EDADMUJ'como 999 y 9\n",
    "filtered_data = data[(data['EDADHOM'] < 150) & (data['EDADMUJ'] < 150) & (data['GETHOM'] < 5) & (data['GETMUJ'] < 5) & (data['CLAUNI'] < 5)]\n",
    "\n",
    "# Separar los datos en conjunto de entrenamiento y prueba\n",
    "X = filtered_data[columns]\n",
    "y = filtered_data[target]\n",
    "X_train, X_test, y_train, y_test = train_test_split(X, y, test_size=0.2, random_state=42)\n",
    "\n",
    "# Crear y entrenar el modelo de árbol de decisión\n",
    "tree = DecisionTreeClassifier(random_state=42)\n",
    "tree.fit(X_train, y_train)\n",
    "\n",
    "# Realizar predicciones en el conjunto de prueba\n",
    "y_pred = tree.predict(X_test)\n",
    "\n",
    "# Calcular la precisión del modelo\n",
    "accuracy = accuracy_score(y_test, y_pred)\n",
    "print(f\"Precisión del modelo: {accuracy:.2f}\")\n",
    "\n",
    "# Visualizar el árbol de decisión\n",
    "plt.figure(figsize=(10, 6))\n",
    "plot_tree(tree, feature_names=columns, class_names=[str(c) for c in tree.classes_], filled=True)\n",
    "plt.show()\n"
   ]
  }
 ],
 "metadata": {
  "kernelspec": {
   "display_name": "Python 3",
   "language": "python",
   "name": "python3"
  },
  "language_info": {
   "codemirror_mode": {
    "name": "ipython",
    "version": 3
   },
   "file_extension": ".py",
   "mimetype": "text/x-python",
   "name": "python",
   "nbconvert_exporter": "python",
   "pygments_lexer": "ipython3",
   "version": "3.9.1"
  },
  "orig_nbformat": 4
 },
 "nbformat": 4,
 "nbformat_minor": 2
}
